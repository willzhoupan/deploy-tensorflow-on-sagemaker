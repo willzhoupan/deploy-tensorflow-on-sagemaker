{
 "cells": [
  {
   "cell_type": "code",
   "execution_count": 4,
   "metadata": {},
   "outputs": [
    {
     "name": "stdout",
     "output_type": "stream",
     "text": [
      "Done\n"
     ]
    }
   ],
   "source": [
    "import tarfile\n",
    "import os\n",
    "#create file name\n",
    "tar = tarfile.open(\"./sagemaker.tar.gz\",\"w:gz\")\n",
    "#read and compress files\n",
    "for root,dir,files in os.walk(\"./\"):\n",
    "    for file in files:\n",
    "        fullpath = os.path.join(root,file)\n",
    "        tar.add(fullpath)\n",
    "tar.close()\n",
    "print('Done')"
   ]
  },
  {
   "cell_type": "code",
   "execution_count": null,
   "metadata": {},
   "outputs": [],
   "source": []
  }
 ],
 "metadata": {
  "kernelspec": {
   "display_name": "conda_tensorflow_p27",
   "language": "python",
   "name": "conda_tensorflow_p27"
  },
  "language_info": {
   "codemirror_mode": {
    "name": "ipython",
    "version": 2
   },
   "file_extension": ".py",
   "mimetype": "text/x-python",
   "name": "python",
   "nbconvert_exporter": "python",
   "pygments_lexer": "ipython2",
   "version": "2.7.16"
  }
 },
 "nbformat": 4,
 "nbformat_minor": 4
}
